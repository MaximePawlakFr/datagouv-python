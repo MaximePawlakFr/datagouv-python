{
 "cells": [
  {
   "cell_type": "code",
   "execution_count": 1,
   "id": "c6052fc8",
   "metadata": {},
   "outputs": [
    {
     "name": "stdout",
     "output_type": "stream",
     "text": [
      "Requirement already satisfied: datagouv-python in /Users/maximepawlak/opt/anaconda3/lib/python3.9/site-packages (0.0.19)\n",
      "Requirement already satisfied: black<25.0.0,>=24.4.0 in /Users/maximepawlak/opt/anaconda3/lib/python3.9/site-packages (from datagouv-python) (24.4.0)\n",
      "Requirement already satisfied: flake8<8.0.0,>=7.0.0 in /Users/maximepawlak/opt/anaconda3/lib/python3.9/site-packages (from datagouv-python) (7.0.0)\n",
      "Requirement already satisfied: pandas<3.0.0,>=2.0.0 in /Users/maximepawlak/opt/anaconda3/lib/python3.9/site-packages (from datagouv-python) (2.2.2)\n",
      "Requirement already satisfied: toml<0.11.0,>=0.10.2 in /Users/maximepawlak/opt/anaconda3/lib/python3.9/site-packages (from datagouv-python) (0.10.2)\n",
      "Requirement already satisfied: click>=8.0.0 in /Users/maximepawlak/opt/anaconda3/lib/python3.9/site-packages (from black<25.0.0,>=24.4.0->datagouv-python) (8.1.7)\n",
      "Requirement already satisfied: mypy-extensions>=0.4.3 in /Users/maximepawlak/opt/anaconda3/lib/python3.9/site-packages (from black<25.0.0,>=24.4.0->datagouv-python) (1.0.0)\n",
      "Requirement already satisfied: packaging>=22.0 in /Users/maximepawlak/opt/anaconda3/lib/python3.9/site-packages (from black<25.0.0,>=24.4.0->datagouv-python) (24.0)\n",
      "Requirement already satisfied: pathspec>=0.9.0 in /Users/maximepawlak/opt/anaconda3/lib/python3.9/site-packages (from black<25.0.0,>=24.4.0->datagouv-python) (0.12.1)\n",
      "Requirement already satisfied: platformdirs>=2 in /Users/maximepawlak/opt/anaconda3/lib/python3.9/site-packages (from black<25.0.0,>=24.4.0->datagouv-python) (4.2.0)\n",
      "Requirement already satisfied: tomli>=1.1.0 in /Users/maximepawlak/opt/anaconda3/lib/python3.9/site-packages (from black<25.0.0,>=24.4.0->datagouv-python) (2.0.1)\n",
      "Requirement already satisfied: typing-extensions>=4.0.1 in /Users/maximepawlak/opt/anaconda3/lib/python3.9/site-packages (from black<25.0.0,>=24.4.0->datagouv-python) (4.11.0)\n",
      "Requirement already satisfied: mccabe<0.8.0,>=0.7.0 in /Users/maximepawlak/opt/anaconda3/lib/python3.9/site-packages (from flake8<8.0.0,>=7.0.0->datagouv-python) (0.7.0)\n",
      "Requirement already satisfied: pycodestyle<2.12.0,>=2.11.0 in /Users/maximepawlak/opt/anaconda3/lib/python3.9/site-packages (from flake8<8.0.0,>=7.0.0->datagouv-python) (2.11.1)\n",
      "Requirement already satisfied: pyflakes<3.3.0,>=3.2.0 in /Users/maximepawlak/opt/anaconda3/lib/python3.9/site-packages (from flake8<8.0.0,>=7.0.0->datagouv-python) (3.2.0)\n",
      "Requirement already satisfied: numpy>=1.22.4 in /Users/maximepawlak/opt/anaconda3/lib/python3.9/site-packages (from pandas<3.0.0,>=2.0.0->datagouv-python) (1.26.4)\n",
      "Requirement already satisfied: python-dateutil>=2.8.2 in /Users/maximepawlak/opt/anaconda3/lib/python3.9/site-packages (from pandas<3.0.0,>=2.0.0->datagouv-python) (2.9.0.post0)\n",
      "Requirement already satisfied: pytz>=2020.1 in /Users/maximepawlak/opt/anaconda3/lib/python3.9/site-packages (from pandas<3.0.0,>=2.0.0->datagouv-python) (2024.1)\n",
      "Requirement already satisfied: tzdata>=2022.7 in /Users/maximepawlak/opt/anaconda3/lib/python3.9/site-packages (from pandas<3.0.0,>=2.0.0->datagouv-python) (2024.1)\n",
      "Requirement already satisfied: six>=1.5 in /Users/maximepawlak/opt/anaconda3/lib/python3.9/site-packages (from python-dateutil>=2.8.2->pandas<3.0.0,>=2.0.0->datagouv-python) (1.16.0)\n"
     ]
    }
   ],
   "source": [
    "!pip install --upgrade datagouv-python"
   ]
  },
  {
   "cell_type": "code",
   "execution_count": 2,
   "id": "8f8d2ae1",
   "metadata": {},
   "outputs": [
    {
     "data": {
      "text/plain": [
       "'0.0.19'"
      ]
     },
     "execution_count": 2,
     "metadata": {},
     "output_type": "execute_result"
    }
   ],
   "source": [
    "import datagouv\n",
    "datagouv.VERSION"
   ]
  },
  {
   "cell_type": "code",
   "execution_count": 3,
   "id": "c0b1ac87",
   "metadata": {},
   "outputs": [],
   "source": [
    "from datagouv import ResourcesDownloader"
   ]
  },
  {
   "cell_type": "code",
   "execution_count": 4,
   "id": "964a9775",
   "metadata": {},
   "outputs": [],
   "source": [
    "# Informations sur les stations (métadonnées)\n",
    "# https://meteo.data.gouv.fr/datasets/656dab84db1bdf627a40eaae\n",
    "dataset_id = \"656dab84db1bdf627a40eaae\""
   ]
  },
  {
   "cell_type": "code",
   "execution_count": 5,
   "id": "34e962e6",
   "metadata": {},
   "outputs": [],
   "source": [
    "downloader = ResourcesDownloader(dataset_id)"
   ]
  },
  {
   "cell_type": "code",
   "execution_count": 6,
   "id": "af7bc84c",
   "metadata": {},
   "outputs": [
    {
     "name": "stderr",
     "output_type": "stream",
     "text": [
      "fiches.json: 719kiB [00:00, 10.8MiB/s]\n",
      "?fond=contenu&id_contenu=37: 35.6kiB [00:00, 10.6MiB/s]                                                                                                                                                             \n"
     ]
    },
    {
     "data": {
      "text/plain": [
       "['https://donneespubliques.meteofrance.fr/metadonnees_publiques/fiches/fiches.json',\n",
       " 'https://donneespubliques.meteofrance.fr/?fond=contenu&id_contenu=37']"
      ]
     },
     "execution_count": 6,
     "metadata": {},
     "output_type": "execute_result"
    }
   ],
   "source": [
    "downloader.download()"
   ]
  }
 ],
 "metadata": {
  "kernelspec": {
   "display_name": "Python 3 (ipykernel)",
   "language": "python",
   "name": "python3"
  },
  "language_info": {
   "codemirror_mode": {
    "name": "ipython",
    "version": 3
   },
   "file_extension": ".py",
   "mimetype": "text/x-python",
   "name": "python",
   "nbconvert_exporter": "python",
   "pygments_lexer": "ipython3",
   "version": "3.9.12"
  }
 },
 "nbformat": 4,
 "nbformat_minor": 5
}
